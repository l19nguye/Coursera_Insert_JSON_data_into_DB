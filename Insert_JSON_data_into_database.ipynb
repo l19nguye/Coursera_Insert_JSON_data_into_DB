{
 "cells": [
  {
   "cell_type": "code",
   "execution_count": 41,
   "metadata": {
    "collapsed": true
   },
   "outputs": [],
   "source": [
    "# What I will do here are:\n",
    "# 1. Define variables for the file and database paths.\n",
    "\n",
    "# 2. Create database and tables\n",
    "    # - using SQLiteStudio to create database, name it users.db\n",
    "    # - write sql command to create tables: User, Course, Member based on the provided information in READ ME.txt\n",
    "    # - connect database and create table by running above sql command.\n",
    "\n",
    "# 3. Read data of JSON file and view its structure.\n",
    "    # - using json library to read data of json file\n",
    "    # - print out the data type of that data\n",
    "    # - print out a sample element of that data\n",
    "\n",
    "# 4. Inserting data to database.\n",
    "     # loop through each element in the json_data and insert data into tables.\n",
    "\n",
    "# Note: all files need to store in the same directory.    "
   ]
  },
  {
   "cell_type": "code",
   "execution_count": 42,
   "metadata": {
    "collapsed": true
   },
   "outputs": [],
   "source": [
    "import sqlite3 as sql\n",
    "import json"
   ]
  },
  {
   "cell_type": "code",
   "execution_count": 44,
   "metadata": {
    "collapsed": true
   },
   "outputs": [],
   "source": [
    "# 1. Define variables for the file and database paths.\n",
    "################################## START 1 ##################################"
   ]
  },
  {
   "cell_type": "code",
   "execution_count": 45,
   "metadata": {
    "collapsed": true
   },
   "outputs": [],
   "source": [
    "json_file = r'roster_data.json'\n",
    "db_file = r'users.db'"
   ]
  },
  {
   "cell_type": "code",
   "execution_count": 46,
   "metadata": {
    "collapsed": true
   },
   "outputs": [],
   "source": [
    "################################## END 1 ##################################"
   ]
  },
  {
   "cell_type": "code",
   "execution_count": null,
   "metadata": {
    "collapsed": true
   },
   "outputs": [],
   "source": []
  },
  {
   "cell_type": "code",
   "execution_count": 47,
   "metadata": {
    "collapsed": true
   },
   "outputs": [],
   "source": [
    "# 2. Create database and tables\n",
    "    # - using SQLiteStudio to create database, name it users.db\n",
    "    # - write sql command to create tables: User, Course, Member based on the provided information in READ ME.txt\n",
    "    # - connect database and create table by running above sql command."
   ]
  },
  {
   "cell_type": "code",
   "execution_count": 48,
   "metadata": {
    "collapsed": true
   },
   "outputs": [],
   "source": [
    "################################## START 2 ##################################"
   ]
  },
  {
   "cell_type": "code",
   "execution_count": 49,
   "metadata": {
    "collapsed": true
   },
   "outputs": [],
   "source": [
    "# sql command to create tables: User, Course, Member based on the provided information in READ ME.txt\n",
    "# if database already had any table of those existing, this command will drop it and create again\n",
    "\n",
    "sql_create_tables = '''\n",
    "DROP TABLE IF EXISTS User;\n",
    "DROP TABLE IF EXISTS Member;\n",
    "DROP TABLE IF EXISTS Course;\n",
    "\n",
    "CREATE TABLE User (\n",
    "    id     INTEGER NOT NULL PRIMARY KEY AUTOINCREMENT UNIQUE,\n",
    "    name   TEXT UNIQUE\n",
    ");\n",
    "\n",
    "CREATE TABLE Course (\n",
    "    id     INTEGER NOT NULL PRIMARY KEY AUTOINCREMENT UNIQUE,\n",
    "    title  TEXT UNIQUE\n",
    ");\n",
    "\n",
    "CREATE TABLE Member (\n",
    "    user_id     INTEGER,\n",
    "    course_id   INTEGER,\n",
    "    role        INTEGER,\n",
    "    PRIMARY KEY (user_id, course_id)\n",
    ")\n",
    "'''"
   ]
  },
  {
   "cell_type": "code",
   "execution_count": 50,
   "metadata": {
    "collapsed": true
   },
   "outputs": [],
   "source": [
    "# open the created database\n",
    "connection = sql.connect(db_file)\n",
    "# define cursor variable\n",
    "cur = connection.cursor()"
   ]
  },
  {
   "cell_type": "code",
   "execution_count": 51,
   "metadata": {
    "collapsed": false
   },
   "outputs": [
    {
     "data": {
      "text/plain": [
       "<sqlite3.Cursor at 0x1d6ba0f68f0>"
      ]
     },
     "execution_count": 51,
     "metadata": {},
     "output_type": "execute_result"
    }
   ],
   "source": [
    "# create table by running above sql command.\n",
    "cur.executescript(sql_create_tables)\n",
    "# we could verify whether the tables have been created sucessfully or not by opening database by SQLiteStudio"
   ]
  },
  {
   "cell_type": "code",
   "execution_count": 52,
   "metadata": {
    "collapsed": true
   },
   "outputs": [],
   "source": [
    "################################## END 2 ##################################"
   ]
  },
  {
   "cell_type": "code",
   "execution_count": 53,
   "metadata": {
    "collapsed": true
   },
   "outputs": [],
   "source": [
    "# 3. Read data of JSON file and view its structure.\n",
    "    # - using json library to read data of json file\n",
    "    # - check the data type of that data\n",
    "    # - print out a sample element of that data"
   ]
  },
  {
   "cell_type": "code",
   "execution_count": 54,
   "metadata": {
    "collapsed": true
   },
   "outputs": [],
   "source": [
    "################################## START 3 ##################################"
   ]
  },
  {
   "cell_type": "code",
   "execution_count": 55,
   "metadata": {
    "collapsed": false
   },
   "outputs": [],
   "source": [
    "# open JSON file in read mode\n",
    "file = open(json_file,'r').read()\n",
    "# using json libary to read data from file into variable json_data\n",
    "json_data = json.loads(file)"
   ]
  },
  {
   "cell_type": "code",
   "execution_count": 60,
   "metadata": {
    "collapsed": false
   },
   "outputs": [],
   "source": [
    "# check the data type of that data\n",
    "# we can see that its data type is list\n",
    "\n",
    "# print(type(data))\n",
    "# <class 'list'>"
   ]
  },
  {
   "cell_type": "code",
   "execution_count": 62,
   "metadata": {
    "collapsed": false
   },
   "outputs": [],
   "source": [
    "# print out a element of json_data\n",
    "\n",
    "# json_data[0]\n",
    "# ['Sebastian', 'si110', 1]\n",
    "\n",
    "# then we can see that each element of json_data is a list\n",
    "# which has 3 subitems:\n",
    "# the first item is the user's name\n",
    "# the second item is the course's name\n",
    "# the third is the role id"
   ]
  },
  {
   "cell_type": "code",
   "execution_count": 63,
   "metadata": {
    "collapsed": true
   },
   "outputs": [],
   "source": [
    "################################## END 3 ##################################"
   ]
  },
  {
   "cell_type": "code",
   "execution_count": 64,
   "metadata": {
    "collapsed": true
   },
   "outputs": [],
   "source": [
    "# 4. Inserting data to database.\n",
    "    # loop through each element in the json_data and insert data into tables."
   ]
  },
  {
   "cell_type": "code",
   "execution_count": 65,
   "metadata": {
    "collapsed": true
   },
   "outputs": [],
   "source": [
    "################################## START 4 ##################################"
   ]
  },
  {
   "cell_type": "code",
   "execution_count": 68,
   "metadata": {
    "collapsed": false
   },
   "outputs": [],
   "source": [
    "# loop through each element in the json_data and insert data into tables.\n",
    "for item in json_data:\n",
    "    user_name = item[0]\n",
    "    course_title = item[1]\n",
    "    role_id = item[2]\n",
    "    \n",
    "    # insert new user into table User\n",
    "    cur.execute(\"insert or ignore into User(name) values (?)\", (user_name,))\n",
    "    connection.commit()\n",
    "    \n",
    "    # get user id which just has been inserted\n",
    "    cur.execute(\"select id from User where name = ? \", (user_name,))\n",
    "    user_id = cur.fetchone()[0]\n",
    "    \n",
    "    \n",
    "    # insert new user into table Course\n",
    "    cur.execute(\"insert or ignore into Course(title) values (?)\", (course_title,))\n",
    "    connection.commit()\n",
    "    \n",
    "    # get user id which just has been inserted\n",
    "    cur.execute(\"select id from Course where title = ? \", (course_title,))\n",
    "    course_id = cur.fetchone()[0]\n",
    "    \n",
    "    \n",
    "    # check whether the user_id and course_id which just been inserted avvailable\n",
    "    # if they are not existing, means there is error occurred when inserting new user and course\n",
    "         # then will not insert new record into table Member, continue to the next item of the loop\n",
    "    # if they are existing, mean the new user and course have been inserted without error\n",
    "        # then will insert new record into table Member\n",
    "    \n",
    "    if user_id is None or course_id is None:\n",
    "        continue\n",
    "    \n",
    "    cur.execute(\"insert or ignore into Member(user_id, course_id, role) values (?, ?, ?)\", (user_id, course_id, role_id))\n",
    "    connection.commit()\n",
    "\n",
    "\n",
    "# close the connection to database\n",
    "connection.close()"
   ]
  },
  {
   "cell_type": "code",
   "execution_count": null,
   "metadata": {
    "collapsed": true
   },
   "outputs": [],
   "source": []
  }
 ],
 "metadata": {
  "kernelspec": {
   "display_name": "Python 3",
   "language": "python",
   "name": "python3"
  },
  "language_info": {
   "codemirror_mode": {
    "name": "ipython",
    "version": 3
   },
   "file_extension": ".py",
   "mimetype": "text/x-python",
   "name": "python",
   "nbconvert_exporter": "python",
   "pygments_lexer": "ipython3",
   "version": "3.6.0"
  }
 },
 "nbformat": 4,
 "nbformat_minor": 2
}
